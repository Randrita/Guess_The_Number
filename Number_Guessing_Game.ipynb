{
 "cells": [
  {
   "cell_type": "markdown",
   "metadata": {},
   "source": [
    "##Number_Guessing_Game"
   ]
  },
  {
   "cell_type": "code",
   "execution_count": 1,
   "metadata": {},
   "outputs": [],
   "source": [
    "#importing modules\n",
    "import random\n",
    "import math"
   ]
  },
  {
   "cell_type": "code",
   "execution_count": 4,
   "metadata": {},
   "outputs": [
    {
     "name": "stdout",
     "output_type": "stream",
     "text": [
      "Enter the upper bound of the limit : \n",
      "10\n",
      "Enter the lower bound of the limit : \n",
      "1\n"
     ]
    }
   ],
   "source": [
    "#taking inputs\n",
    "print(\"Enter the upper bound of the limit : \")\n",
    "upper_bound=int(input())\n",
    "print(\"Enter the lower bound of the limit : \")\n",
    "lower_bound=int(input())"
   ]
  },
  {
   "cell_type": "code",
   "execution_count": 5,
   "metadata": {},
   "outputs": [],
   "source": [
    "system_guess=random.randint(lower_bound,upper_bound)"
   ]
  },
  {
   "cell_type": "code",
   "execution_count": 9,
   "metadata": {},
   "outputs": [
    {
     "name": "stdout",
     "output_type": "stream",
     "text": [
      "Guess a number between 1 to 10\n",
      "5\n",
      "You guessed a number which is larger than the required one\n",
      "Guess a number between 1 to 10\n",
      "6\n",
      "You guessed a number which is larger than the required one\n",
      "Guess a number between 1 to 10\n",
      "4\n",
      "You guessed a number which is larger than the required one\n",
      "Guess a number between 1 to 10\n",
      "5\n",
      "You guessed a number which is larger than the required one\n",
      "Guess a number between 1 to 10\n",
      "8\n",
      "You guessed a number which is larger than the required one\n",
      "Guess a number between 1 to 10\n",
      "9\n",
      "You guessed a number which is larger than the required one\n",
      "Oops Sorry!You crossed the limit.Try again\n"
     ]
    }
   ],
   "source": [
    "count=0\n",
    "while count<6:\n",
    "    print(\"Guess a number between \"+str(lower_bound)+\" to \"+ str(upper_bound))\n",
    "    guess=int(input())\n",
    "    count=count+1\n",
    "    if system_guess==guess :\n",
    "        print(\"well done!you guessed it right\")\n",
    "        break\n",
    "    elif system_guess>guess:\n",
    "        print(\"You guessed a number which is smaller than the required one\")\n",
    "    elif system_guess<guess:\n",
    "        print(\"You guessed a number which is larger than the required one\")\n",
    "\n",
    "if count==6:\n",
    " print(\"Oops Sorry!You crossed the limit.Try again\")\n",
    "    "
   ]
  },
  {
   "cell_type": "code",
   "execution_count": null,
   "metadata": {},
   "outputs": [],
   "source": []
  }
 ],
 "metadata": {
  "kernelspec": {
   "display_name": "Python 3",
   "language": "python",
   "name": "python3"
  },
  "language_info": {
   "codemirror_mode": {
    "name": "ipython",
    "version": 3
   },
   "file_extension": ".py",
   "mimetype": "text/x-python",
   "name": "python",
   "nbconvert_exporter": "python",
   "pygments_lexer": "ipython3",
   "version": "3.8.3"
  }
 },
 "nbformat": 4,
 "nbformat_minor": 4
}
